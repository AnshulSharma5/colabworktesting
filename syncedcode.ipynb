{
  "nbformat": 4,
  "nbformat_minor": 0,
  "metadata": {
    "colab": {
      "provenance": [],
      "toc_visible": true,
      "authorship_tag": "ABX9TyO73IIvWVauJSv9HJtvUg87",
      "include_colab_link": true
    },
    "kernelspec": {
      "name": "python3",
      "display_name": "Python 3"
    },
    "language_info": {
      "name": "python"
    }
  },
  "cells": [
    {
      "cell_type": "markdown",
      "metadata": {
        "id": "view-in-github",
        "colab_type": "text"
      },
      "source": [
        "<a href=\"https://colab.research.google.com/github/AnshulSharma5/colabworktesting/blob/main/syncedcode.ipynb\" target=\"_parent\"><img src=\"https://colab.research.google.com/assets/colab-badge.svg\" alt=\"Open In Colab\"/></a>"
      ]
    },
    {
      "cell_type": "markdown",
      "source": [
        "\n",
        "# Synced code"
      ],
      "metadata": {
        "id": "lgbjuEnfivyX"
      }
    },
    {
      "cell_type": "markdown",
      "source": [
        "Prime number till N"
      ],
      "metadata": {
        "id": "iNPELkYdi7Ks"
      }
    },
    {
      "cell_type": "code",
      "source": [
        "n = int(input())\n",
        "for i in range(2,n):\n",
        "  if(n%n!=0):\n",
        "    continue\n",
        "  print(n,end=\" \")"
      ],
      "metadata": {
        "id": "QGPRwiDbjCjR",
        "outputId": "8b463877-1eb7-4a46-94ba-6aaed297735c",
        "colab": {
          "base_uri": "https://localhost:8080/"
        }
      },
      "execution_count": 1,
      "outputs": [
        {
          "output_type": "stream",
          "name": "stdout",
          "text": [
            "12\n",
            "12 12 12 12 12 12 12 12 12 12 "
          ]
        }
      ]
    },
    {
      "cell_type": "code",
      "source": [],
      "metadata": {
        "id": "RrOk4lRCjECC"
      },
      "execution_count": null,
      "outputs": []
    }
  ]
}